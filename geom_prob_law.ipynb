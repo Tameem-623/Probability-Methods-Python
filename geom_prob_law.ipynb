{
 "cells": [
  {
   "cell_type": "markdown",
   "metadata": {},
   "source": [
    "# Geometric Probality Law\n",
    "## Definition: \n",
    "### Geometric distribution -\n",
    "                         A discrete random variable X is said to have a geometric distribution if it has a probability density function (p.d.f.) of the form:\n",
    "                                            P(X = x) = q(x-1)p, where q = 1 - p\n",
    "\n",
    "\n",
    "Taking Values from the user"
   ]
  },
  {
   "cell_type": "code",
   "execution_count": 1,
   "metadata": {},
   "outputs": [],
   "source": [
    "p = float(input(\"Enter Probability of Success: \"))\n",
    "q = float(input(\"Enter Probability of Failure: \"))\n",
    "m = int(input(\"Enter trial results in Success: \"))"
   ]
  },
  {
   "cell_type": "markdown",
   "metadata": {},
   "source": [
    "Calculating Probabily of fisrt success"
   ]
  },
  {
   "cell_type": "code",
   "execution_count": 2,
   "metadata": {},
   "outputs": [],
   "source": [
    "\n",
    "prob_of_event = p*q ** (m-1)\n",
    "prob_of_event = float(prob_of_event)"
   ]
  },
  {
   "cell_type": "markdown",
   "metadata": {},
   "source": [
    "Displaying the Probability"
   ]
  },
  {
   "cell_type": "code",
   "execution_count": 3,
   "metadata": {},
   "outputs": [
    {
     "name": "stdout",
     "output_type": "stream",
     "text": [
      "Probability of Success at 100th trial : 1.2025475483746886e-52\n"
     ]
    }
   ],
   "source": [
    "print(\"Probability of Success at \" + str(m) +\"th trial : \" + str(prob_of_event))"
   ]
  }
 ],
 "metadata": {
  "kernelspec": {
   "display_name": "Python 3.10.5 64-bit",
   "language": "python",
   "name": "python3"
  },
  "language_info": {
   "codemirror_mode": {
    "name": "ipython",
    "version": 3
   },
   "file_extension": ".py",
   "mimetype": "text/x-python",
   "name": "python",
   "nbconvert_exporter": "python",
   "pygments_lexer": "ipython3",
   "version": "3.10.5"
  },
  "orig_nbformat": 4,
  "vscode": {
   "interpreter": {
    "hash": "84c584edc2b04d1d5ecbeca416ae12d574428f8f034941574795e40500e1dbdd"
   }
  }
 },
 "nbformat": 4,
 "nbformat_minor": 2
}
